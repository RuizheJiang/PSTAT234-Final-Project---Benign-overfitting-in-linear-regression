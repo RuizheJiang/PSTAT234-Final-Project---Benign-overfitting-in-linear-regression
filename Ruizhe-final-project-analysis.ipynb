{
 "cells": [
  {
   "cell_type": "markdown",
   "metadata": {},
   "source": [
    "# Benign Overfitting in Linear Regression – Summary and Analysis"
   ]
  },
  {
   "cell_type": "markdown",
   "metadata": {},
   "source": [
    "## Motivation: Deep Learning and the Overfitting Paradox"
   ]
  },
  {
   "cell_type": "markdown",
   "metadata": {},
   "source": [
    "Modern deep learning has revealed a surprising paradox: models can fit training data (even noisy labels) perfectly and still generalize well​. Classical statistical wisdom warns that a predictor fitting every data point is likely overfitting and will perform poorly on new data​. For example, Zhang et al. (2017) showed a deep network can reach near-zero training loss on a vision dataset with random labels yet still achieve non-trivial test accuracy​. This defies the traditional bias–variance trade-off, which posits a tension between model complexity (capacity) and training error. Benign overfitting refers to this phenomenon where overfitting does not harm (and can even aid) prediction accuracy. Bartlett et al. (2020) set out to understand this mystery in the simplest possible setting: linear regression with more parameters than data​. By studying linear models, they aim to identify conditions under which one can perfectly fit the training data (including noise) without degrading test performance​. The hope is that insights from this linear case will shed light on why overparameterized deep networks can generalize well despite interpolating noisy data."
   ]
  },
  {
   "cell_type": "markdown",
   "metadata": {},
   "source": [
    "## The Linear Regression Setup and Interpolation Solution"
   ]
  },
  {
   "cell_type": "markdown",
   "metadata": {},
   "source": [
    "Bartlett et al. consider a standard linear regression problem $(x, y)$ in a high-dimensional (potentially infinite-dimensional) feature space​. We have an input vector $x \\in \\mathbb{R}^d$ (or a Hilbert space $H$) with covariance $\\Sigma = \\mathbb{E}[xx^T]$, and an output $y \\in \\mathbb{R}$ following the linear model $y = x^T \\theta^* + \\text{noise}$ (with $\\theta^*$ being the true underlying parameter). The data are assumed to be mean-zero and satisfy some regularity conditions (e.g. sub-Gaussian tails) to facilitate analysis. Crucially, the authors focus on the overparameterized regime: the parameter space dimension $d$ is much larger than the sample size $n$, ensuring that a perfect fit to $n$ training points is possible (indeed $\\text{rank}(\\Sigma) > n$ so the $n$ data span only a small subspace). In this regime, the least-squares normal equations $X^T X \\theta = X^T y$ have infinitely many solutions. Among all interpolating solutions $ {\\theta: X\\theta = y}$, they consider the minimum-norm interpolating estimator $\\hat{\\theta}$​. This $\\hat{\\theta}$ is the solution with smallest Euclidean norm that exactly fits the training data, equivalent to the Moore-Penrose pseudoinverse solution $\\hat{\\theta} = X^+ y$. Intuitively, $\\hat{\\theta}$ is the “least complex” interpolator. The key question is: when does this interpolator achieve near-optimal prediction accuracy, despite fitting all training noise?"
   ]
  },
  {
   "cell_type": "markdown",
   "metadata": {},
   "source": [
    "To evaluate generalization, the authors define the excess risk of an estimator $\\theta$ as the difference in mean squared error compared to the Bayes-optimal predictor $\\theta^*$: $R(\\theta) := \\mathbb{E}[(y - x^T \\theta)^2 - (y - x^T \\theta^*)^2]$, i.e. how much larger the MSE is for $\\theta$ than for the true $\\theta^*$. Benign overfitting in this context means $R(\\hat{\\theta})$ is close to 0 (so $\\hat{\\theta}$ is nearly as accurate as $\\theta^*$) even though $\\hat{\\theta}$ fits the training data exactly (including noise)."
   ]
  },
  {
   "cell_type": "markdown",
   "metadata": {},
   "source": [
    "## Theoretical Framework: Effective Rank and Risk Decomposition"
   ]
  },
  {
   "cell_type": "markdown",
   "metadata": {},
   "source": [
    "A core contribution of Bartlett et al. is a finite-sample characterization of when linear regression can benignly overfit. They show that the answer lies in the spectrum of the covariance $\\Sigma$, through what they call the “effective rank.” The covariance’s eigenvalues (denote them ${\\lambda_i}$ in decreasing order) determine how variance is distributed across different directions in parameter space​. The authors first derive a classical bias–variance decomposition of the excess risk $R(\\hat{\\theta})$ into two parts​.\n"
   ]
  },
  {
   "cell_type": "markdown",
   "metadata": {},
   "source": [
    "- Term 1: Error from estimating the signal $\\theta^*$ using $n$ samples. This term is controlled by the total “scale” of the problem. If the overall variance (trace of $\\Sigma$) is not too large relative to $n$, then the component of $\\hat{\\theta}$ aligned with $\\theta^*$ will be estimated accurately​ (In other words, $\\theta^*$’s contribution isn’t overly distorted by sampling noise when $\\sum_i \\lambda_i$ is small compared to $n$​.)\n",
    "- Term 2: Error from fitting the label noise. This term is more novel – it captures how the random noise in $y$ (which $\\hat{\\theta}$ has interpolated) impacts prediction. The key insight is that the impact of label noise on $\\hat{\\theta}$’s risk depends on how “spread out” the covariance’s small eigenvalues are​. If there are many directions in parameter space with tiny variance (small $\\lambda_i$), the noise can be “hidden” in those directions with little penalty to prediction accuracy"
   ]
  },
  {
   "cell_type": "markdown",
   "metadata": {},
   "source": [
    "They formalize this via two notions of effective rank of $\\Sigma$ (Definition 3 in the paper). For $k \\ge 0$, define:\n",
    "\n",
    "- $r_k(\\Sigma) = \\frac{\\sum_{i>k} \\lambda_i}{\\lambda_{k+1}}$, which is roughly the ratio of the variance remaining in the trailing eigenvalues (those beyond the $k$-th) to the $(k+1)$-th eigenvalue. This measures the mass in the “tail” of the spectrum relative to the next eigenvalue.\n",
    "- $R_k(\\Sigma) = \\frac{\\left(\\sum_{i>k} \\lambda_i\\right)^2}{\\sum_{i>k} \\lambda_i^2}$, which is analogous to the effective dimensionality in the tail (it equals the number of eigenvalues beyond $k$ if they are all equal). $R_k$ is large when there are many small eigenvalues of similar size."
   ]
  },
  {
   "cell_type": "markdown",
   "metadata": {},
   "source": [
    "Intuitively, a large effective rank means $\\Sigma$ has a long flat tail of tiny eigenvalues – i.e. many directions with negligible variance. A small effective rank means the spectrum drops off quickly (most variance captured by a limited number of directions). These definitions help characterize when the noise-fitting term (Term 2) remains small. Specifically, Bartlett et al. show that Term 2 is small if and only if $\\Sigma$’s effective rank in the low-variance regime is large compared to $n$​. In other words, benign overfitting requires a high-dimensional “spread-out” spectrum: a great many directions with small eigenvalues so that the label noise can be absorbed into those directions without greatly affecting predictions​. This condition is both necessary and sufficient in their analysis"
   ]
  },
  {
   "cell_type": "markdown",
   "metadata": {},
   "source": [
    "In short, to benignly overfit, the model must be extremely overparameterized and the data distribution must have a heavy-tailed covariance (lots of small eigenvalues)​. This ensures the estimator can memorize noise in “safe” directions that barely affect its predictions. If instead the data had only a few relevant directions (fast-decaying eigenvalues), then fitting noise along those directions would significantly hurt accuracy."
   ]
  },
  {
   "cell_type": "markdown",
   "metadata": {},
   "source": [
    "## Main Results: When is Overfitting Benign?\n"
   ]
  },
  {
   "cell_type": "markdown",
   "metadata": {},
   "source": [
    "Using the above framework, Bartlett et al. provide a rigorous characterization via finite-sample bounds on $R(\\hat{\\theta})$ (Theorem 1). Theorem 1 gives nearly matching upper and lower bounds on the excess risk of the minimum-norm interpolating estimator in terms of the effective ranks of $\\Sigma$. While the theorem is technical, its implications can be summarized as follows:\n",
    "\n",
    "- If $\\Sigma$ does not have a sufficiently large effective rank (roughly, not enough small-eigenvalue directions compared to $n$), then benign overfitting is impossible. In this case, $\\hat{\\theta}$’s risk will be bounded below by a constant fraction of the irreducible noise level – meaning it performs much worse than the optimal $\\theta^*$. Intuitively, if the model doesn’t have “extra” weak directions to stash the noise, any interpolating solution must distort some important directions, causing significant excess error.\n",
    "- Conversely, if $\\Sigma$’s spectrum is suitably flat/extended (effective rank $\\gg n$ in the low-variance end), then the excess risk can be made arbitrarily small (near zero) even as $\\hat{\\theta}$ fits the data perfectly​. In this regime, $\\hat{\\theta}$ achieves near-optimal prediction accuracy, essentially matching the performance of $\\theta^*$ despite interpolating the noise. Theorem 1 quantifies this with an upper bound on $R(\\hat{\\theta})$ that goes to 0 under the stated conditions as $n$ grows. All the terms in that bound involve ratios like $r_0(\\Sigma)/n$ or $n/R_{k^*_n}(\\Sigma)$, which will be small when the spectrum conditions are met."
   ]
  },
  {
   "cell_type": "markdown",
   "metadata": {},
   "source": [
    "The authors then define a notion of “benign” sequence of covariance matrices (Definition 4) to formalize asymptotic benign overfitting. A sequence $\\Sigma_n$ (varying with sample size $n$) is benign if as $n\\to\\infty$:\n",
    "\n",
    "- $r_0(\\Sigma_n)/n \\to 0$,\n",
    "- $k^*_n/n \\to 0$, and\n",
    "- $n/R_{k^*_n}(\\Sigma_n) \\to 0$."
   ]
  },
  {
   "cell_type": "markdown",
   "metadata": {},
   "source": [
    "Here $k$ is the index of the first “large” effective rank: $k = \\min{k: r_k(\\Sigma) \\ge b n}$ for some constant $b>1$. In essence, these conditions ensure that the spectrum has a sufficiently large bulk of small eigenvalues (making $R_{k^*}$ huge) while the overall scale of $\\Sigma$ remains controlled. Under these conditions, Theorem 1 guarantees $R(\\hat{\\theta}) \\to 0$ (benign overfitting)."
   ]
  },
  {
   "cell_type": "markdown",
   "metadata": {},
   "source": [
    "Theorem 2 provides concrete examples of spectral conditions that are benign vs. non-benign, illustrating the theory. Two notable cases are highlighted:\n",
    "\n",
    "- Infinite-Dimensional Case (Heavy-tailed spectrum): Suppose the eigenvalues decay as a power-law just at the boundary of being summable. For example, $\\mu_k(\\Sigma) \\sim k^{-α} (\\ln k)^{-β}$. Theorem 2.1 shows that benign overfitting occurs if and only if $α = 1$ and $β > 1$. This corresponds to eigenvalues $\\approx 1/(k \\cdot (\\ln k)^{β})$, which decay just slowly enough that $\\sum_k \\mu_k < \\infty$ (finite variance) but nearly as slow as $1/k$. In other words, the spectrum has a heavy tail (slow decay) – for benign overfitting, it must be right at the edge of too heavy: any faster decay (e.g. $α>1$ meaning exponentially fast or $1/k^{1+ε}$) and the effective rank isn’t large enough; any slower (α<1) and total variance would diverge, violating assumptions.\n",
    "- High but Finite Dimension with Isotropic Noise: In contrast, Theorem 2.2 considers a scenario where the data lie in a finite-dimensional space, but the dimension $p_n$ grows with $n$. Imagine $\\Sigma_n$ has $p_n$ non-zero eigenvalues that decay very fast (even exponentially), yet there is a small “isotropic” variance $\\varepsilon_n$ added in all directions (so essentially $p_n$ eigenvalues around some tiny value $\\varepsilon_n$, and 0 beyond $p_n$). In this case, even though the primary eigenvalues of the original signal may drop off quickly, the sheer number of features $p_n \\gg n$ and the presence of a tiny floor $\\varepsilon_n$ can yield benign overfitting. The condition is that the dimension grows significantly faster than $n$ (formally $p_n = \\omega(n)$), and the total isotropic variance is small relative to $n$ (specifically $\\varepsilon_n p_n = o(n)$, but not too small, e.g. not exponentially small). Under these conditions, $\\hat{\\theta}$ achieves near-optimal risk. Intuitively, here the overparameterization is extreme (dimension much larger than sample size) and there is a flat part of the spectrum (almost constant small eigenvalues), which again means lots of “harmless” directions to absorb noise."
   ]
  },
  {
   "cell_type": "markdown",
   "metadata": {},
   "source": [
    "The two cases above illustrate a fundamental trade-off in benign overfitting: on one hand, we need slow-decaying small eigenvalues to make $n/R_{k^*}$ small (so that noise impact is negligible); on the other hand, we need the eigenvalues to be summable (finite trace) so that $r_0(\\Sigma)/n$ is small. In infinite dimensions, achieving both requires a very specific borderline decay rate (roughly $1/k$ up to log factors). This suggests that benign overfitting in an infinite-dimensional function space is a delicate and somewhat “unusual” phenomenon, only possible under fine-tuned spectral conditions. In contrast, if data live in a large but finite-dimensional space, it is much easier to satisfy both conditions: as long as the dimension is huge (ensuring summability of eigenvalues) one can have an almost flat spectrum (slow decay or even nearly constant eigenvalues) and still be benign. The authors note that benign overfitting is a more generic scenario in high but finite dimensions (e.g. many features) than in strictly infinite-dimensional settings​. This underscores the role of finite but very high dimensional data in allowing overfitting without harm."
   ]
  },
  {
   "cell_type": "markdown",
   "metadata": {},
   "source": [
    "## Overparameterization and Effective Rank: Why So Many Parameters?"
   ]
  },
  {
   "cell_type": "markdown",
   "metadata": {},
   "source": [
    "A clear message from this work is that overparameterization is essential for benign overfitting​. In practical terms, overparameterization means the model has far more parameters (or feature dimensions) than the number of training examples. Bartlett et al. show that it’s not just the count of extra parameters, but the presence of many “uninformative” directions in parameter space that makes overfitting harmless​. These directions correspond to eigenvectors of $\\Sigma$ with tiny eigenvalues – directions in which the inputs $x$ have almost no variance, so they barely affect the output. When there are “significantly more” of these weak directions than there are data points, the least-norm solution will utilize them to fit the noise, leaving the important directions (those with large variance) mostly aligned with the true signal $\\theta^*$​."
   ]
  },
  {
   "cell_type": "markdown",
   "metadata": {},
   "source": [
    "In essence, the parameter vector $\\hat{\\theta}$ can be decomposed into two components: (i) one in the subspace of principal components (large eigenvalues) and (ii) one in the subspace of weak components (small eigenvalues). The first part is responsible for predicting the true signal, and the second part mainly soaks up label noise​. Overparameterization ensures the second part (noise-fitting component) has lots of room (dimensions) to live in without overlapping with the first part. This idea aligns with the intuition that $\\hat{\\theta}$ can be written as $\\hat{\\theta} = \\theta^* + \\Delta$, where $\\Delta$ lies mostly in the spiky, low-variance directions of $\\Sigma$ and thus $\\Delta$ has minimal effect on predictions​. Classical theory would normally penalize any $\\Delta \\neq 0$ as overfitting, but here $\\Delta$ is “harmless” because $x^T \\Delta$ is very small for new samples (since $x$ has almost no projection in those directions)​. This is precisely why a large effective rank (many small eigenvalues) is equivalent to requiring a high degree of overparameterization for benign overfitting​."
   ]
  },
  {
   "cell_type": "markdown",
   "metadata": {},
   "source": [
    "To summarize: Benign overfitting needs an extreme excess of parameters relative to data, such that the model has a high-capacity subspace that is irrelevant to the true function (the “unimportant directions”). This subspace acts as a reservoir for fitting noise. If this reservoir is big enough (effective rank $\\gg n$), the noise-fitting won’t hurt generalization. Bartlett et al.’s results thus formalize a crucial lesson: simply having more parameters than data is not enough – the structure of those extra parameters (through $\\Sigma$) must be such that they do not contribute significantly to the true signal. When that holds, overparameterization becomes benign, even beneficial.\n"
   ]
  },
  {
   "cell_type": "markdown",
   "metadata": {},
   "source": [
    "## Insights and Connections to Deep Learning"
   ]
  },
  {
   "cell_type": "markdown",
   "metadata": {},
   "source": [
    "Although the paper’s analysis is for linear models, it was directly motivated by and is believed to shed light on deep learning’s behavior​. The phenomena observed in linear regression draw interesting parallels to complex models:\n",
    "\n",
    "- Implicit Bias of Optimization: In deep networks, gradient-based training often seems to find solutions that generalize well even when many solutions could fit the data. In the linear case, the minimum-norm interpolant $\\hat{\\theta}$ plays a similar role as a “biased” solution among the many interpolating ones. One connection discussed is the Neural Tangent Kernel (NTK) regime, where an extremely wide neural network can be approximated by a linear model in function space​. In such cases, gradient descent on the network effectively performs gradient descent in that high-dimensional linear (kernel) space, and it tends to find an interpolator that minimizes a norm in that space. Bartlett et al. note that under reasonable data assumptions, the NTK’s eigenvalues can indeed have a heavy tail (slow decay) and the model dimension is huge (effectively infinite width), which are precisely the ingredients for benign overfitting​. This suggests that wide neural networks might be operating in a regime analogous to the benign overfitting conditions – with many “slightly important” directions in function space due to the wide network.\n",
    "\n",
    "- Spectrum of Learned Representations: Their results hint that a deep network that benignly overfits may be one where the learned features or internal representations have an approximately flat spectrum up to a very large rank. In practice, this could mean the network spreads variance across a huge number of directions in weight space or activation space, rather than concentrating on a few. Indeed, Bartlett et al. conjecture that covariance eigenvalues that are nearly constant or slowly decaying in a high-dimensional feature space might be important for benign overfitting in deep nets as well​. Some researchers have suggested viewing deep nets as finite-dimensional approximations to infinite-dimensional function classes (like kernels)​. The linear analysis here indicates that having a finite but large capacity (rather than truly infinite) is crucial – an infinite-dimensional model requires very specific conditions to generalize, whereas a high-but-finite model can generalize across a broader set of conditions​. This could imply that the finite width of real neural networks (as opposed to infinitely wide ones) might actually be a feature that enables benign overfitting by limiting how fast the eigenvalues can decay.\n",
    "\n",
    "- Open Problems: The paper stops short of claiming that deep networks definitely have the covariance structure needed; rather, it provides clues. Verifying these conditions in actual neural network training is an open problem​. The authors caution that some of their assumptions (like independent features or linearity of the model) do not hold in realistic deep learning setups​. Nevertheless, the linear case suggests a possible explanation for the “mystery” of deep learning’s generalization: if the network implicitly achieves something akin to a minimum-norm solution in a very high-dimensional parameter space with a slow spectral decay, it could be benignly overfitting​. In short, deep networks might generalize well for the same reason the min-norm linear regressor does – because they have a form of implicit overparameterization that channels noise into directions that don’t affect the output much. Confirming this hypothesis for neural nets is an important direction for future research."
   ]
  },
  {
   "cell_type": "markdown",
   "metadata": {},
   "source": [
    "## Conclusion"
   ]
  },
  {
   "cell_type": "markdown",
   "metadata": {},
   "source": [
    "Conclusion: Bartlett et al. (2020) provide a clear mathematical story for benign overfitting in linear regression. The story highlights the interplay between model capacity (overparameterization) and data distribution (covariance spectrum). In essence, to overfit benignly, a linear model needs to have enough “wiggle room” to fit noise in directions that don’t matter. This manifests as a covariance with a long tail of small eigenvalues (large effective rank) and a model with vastly more parameters than data​. When these conditions are met, the minimum-norm interpolator achieves nearly the same performance as the true model, resolving the apparent paradox of overfitting without harming prediction. These findings, while derived in a simple setting, draw intriguing parallels to deep neural networks and offer a potential piece of the puzzle in understanding why modern high-capacity models generalize well."
   ]
  }
 ],
 "metadata": {
  "language_info": {
   "name": "python"
  }
 },
 "nbformat": 4,
 "nbformat_minor": 2
}
